{
  "nbformat": 4,
  "nbformat_minor": 0,
  "metadata": {
    "colab": {
      "name": "Caltrain program.ipynb",
      "provenance": []
    },
    "kernelspec": {
      "name": "python3",
      "display_name": "Python 3"
    },
    "language_info": {
      "name": "python"
    }
  },
  "cells": [
    {
      "cell_type": "code",
      "execution_count": null,
      "metadata": {
        "id": "6OfLO0B277iq"
      },
      "outputs": [],
      "source": [
        "# Caltrain program\n",
        "\n",
        "\n",
        "Stations_dictionary = dict({\n",
        "            'Zone-1':['San Francisco','22nd Street','Bayshore','South San Francisco','San Bruno'],\n",
        "             'Zone-2':['Millbrae Transit Center','Broadway','Burlingame','San Mateo','Hayward Park','Hillsdale','Belmont','San Carlos','Redwood City'],\n",
        "             'Zone-3':['Menlo Park','Palo Alto','Stanford', 'California Ave.','San Antonio','Mountain View','Sunnyvale'],\n",
        "             'Zone-4':['Lawrence','Santa Clara','College Park','San Jose Diridon','Tamien'],\n",
        "            'Zone-5':['Capitol','Blossom Hill'],\n",
        "            'Zone-6':['Morgan Hill','San Martin','Gilroy']\n",
        "})\n",
        "\n"
      ]
    },
    {
      "cell_type": "code",
      "source": [
        "entry_station = input('Enter your entry station')\n",
        "exit_station = input('Enter your exit station')\n",
        "\n",
        "# for key in Stations_dictionary:\n",
        "  # print(Stations_dictinoary[key])\n",
        "  # if(entry_station in Stations_dictinoary[key] and exit_station in Stations_dictinoary[key]):\n",
        "  #   print('yes')\n"
      ],
      "metadata": {
        "colab": {
          "base_uri": "https://localhost:8080/"
        },
        "id": "etvHj4Xc79Ud",
        "outputId": "7c7dd351-4535-4348-ecc7-3269cf758310"
      },
      "execution_count": null,
      "outputs": [
        {
          "name": "stdout",
          "output_type": "stream",
          "text": [
            "Enter your entry stationSan Francisco\n",
            "Enter your exit stationBayshore\n"
          ]
        }
      ]
    },
    {
      "cell_type": "code",
      "source": [
        ""
      ],
      "metadata": {
        "id": "69yDXC5z7_Xp"
      },
      "execution_count": null,
      "outputs": []
    },
    {
      "cell_type": "code",
      "source": [
        "for key in Stations_dictionary:\n",
        "  print(Stations_dictionary[key])\n",
        "  if(entry_station==Stations_dictionary[key]):\n",
        "    print('yes')\n",
        "\n",
        "def getKey(dct,value):\n",
        "  return [key for key in dct if (value in dct[key])]\n",
        "  # print(Stations_dictionary.values())"
      ],
      "metadata": {
        "colab": {
          "base_uri": "https://localhost:8080/"
        },
        "id": "ubmCHkpk7_fy",
        "outputId": "9119adef-1b4c-45d0-efad-f89059d4cfb6"
      },
      "execution_count": null,
      "outputs": [
        {
          "output_type": "stream",
          "name": "stdout",
          "text": [
            "['San Francisco', '22nd Street', 'Bayshore', 'South San Francisco', 'San Bruno']\n",
            "['Millbrae Transit Center', 'Broadway', 'Burlingame', 'San Mateo', 'Hayward Park', 'Hillsdale', 'Belmont', 'San Carlos', 'Redwood City']\n",
            "['Menlo Park', 'Palo Alto', 'Stanford', 'California Ave.', 'San Antonio', 'Mountain View', 'Sunnyvale']\n",
            "['Lawrence', 'Santa Clara', 'College Park', 'San Jose Diridon', 'Tamien']\n",
            "['Capitol', 'Blossom Hill']\n",
            "['Morgan Hill', 'San Martin', 'Gilroy']\n"
          ]
        }
      ]
    },
    {
      "cell_type": "code",
      "source": [
        "entry_zone=getKey(Stations_dictionary,entry_station)[0]\n",
        "exit_zone = getKey(Stations_dictionary,exit_station)[0]\n",
        "print(entry_zone,exit_zone)\n"
      ],
      "metadata": {
        "colab": {
          "base_uri": "https://localhost:8080/"
        },
        "id": "Q_uyGg608BqC",
        "outputId": "c475f0e8-f1a1-4b2c-e49e-92e3612598fd"
      },
      "execution_count": null,
      "outputs": [
        {
          "output_type": "stream",
          "name": "stdout",
          "text": [
            "Zone-1 Zone-1\n"
          ]
        }
      ]
    },
    {
      "cell_type": "code",
      "source": [
        "price_dictionary = dict({'Zone-1': 1, 'Zone-2':2,'Zone-3':3,'Zone-4':4, 'Zone-5':5,'Zone-6':6})\n",
        "\n",
        "zone_difference = abs(price_dictionary[entry_zone] - price_dictionary[exit_zone])\n",
        " \n",
        "print(zone_difference)\n",
        "\n",
        "ticket_price = 0\n",
        "if zone_difference == 0:\n",
        "  ticket_price = 3.75\n",
        "elif zone_difference == 1:\n",
        "  ticket_price = 6\n",
        "elif zone_difference == 2:\n",
        "  ticket_price = 8.25\n",
        "elif zone_difference == 3:\n",
        "  ticket_price = 10.5\n",
        "elif zone_difference == 4:\n",
        "  ticket_price = 12.75\n",
        "elif zone_difference == 5:\n",
        "  ticket_price = 15\n",
        "\n",
        "print(ticket_price)"
      ],
      "metadata": {
        "colab": {
          "base_uri": "https://localhost:8080/"
        },
        "id": "UHTiQKkK8D4p",
        "outputId": "79020145-e0f7-4771-cff8-ac00beb11453"
      },
      "execution_count": null,
      "outputs": [
        {
          "output_type": "stream",
          "name": "stdout",
          "text": [
            "0\n",
            "3.75\n"
          ]
        }
      ]
    }
  ]
}