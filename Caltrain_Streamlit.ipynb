{
  "nbformat": 4,
  "nbformat_minor": 0,
  "metadata": {
    "colab": {
      "name": "Caltrain Streamlit.ipynb",
      "provenance": [],
      "collapsed_sections": []
    },
    "kernelspec": {
      "name": "python3",
      "display_name": "Python 3"
    },
    "language_info": {
      "name": "python"
    }
  },
  "cells": [
    {
      "cell_type": "code",
      "execution_count": null,
      "metadata": {
        "id": "af2R65ZqDQez"
      },
      "outputs": [],
      "source": [
        "# Caltrain program with Streamlit\n",
        "\n",
        "\n",
        "Stations_dictionary = dict({\n",
        "            'Zone-1':['San Francisco','22nd Street','Bayshore','South San Francisco','San Bruno'],\n",
        "             'Zone-2':['Millbrae Transit Center','Broadway','Burlingame','San Mateo','Hayward Park','Hillsdale','Belmont','San Carlos','Redwood City'],\n",
        "             'Zone-3':['Menlo Park','Palo Alto','Stanford', 'California Ave.','San Antonio','Mountain View','Sunnyvale'],\n",
        "             'Zone-4':['Lawrence','Santa Clara','College Park','San Jose Diridon','Tamien'],\n",
        "            'Zone-5':['Capitol','Blossom Hill'],\n",
        "            'Zone-6':['Morgan Hill','San Martin','Gilroy']\n",
        "})\n"
      ]
    },
    {
      "cell_type": "code",
      "source": [
        "import streamlit as st"
      ],
      "metadata": {
        "id": "MLmE8phKuvU1"
      },
      "execution_count": null,
      "outputs": []
    },
    {
      "cell_type": "code",
      "source": [
        "def getKey(dct,value):\n",
        "  return [key for key in dct if (value in dct[key])]"
      ],
      "metadata": {
        "id": "bbsl3_FuzvT-"
      },
      "execution_count": null,
      "outputs": []
    },
    {
      "cell_type": "code",
      "source": [
        "\n",
        "try:\n",
        "  entry_station = st.text_input('Enter your entry station')\n",
        "except ValueError:\n",
        "  st.error('Enter an input')\n",
        "\n",
        "try:\n",
        "  entry_zone=getKey(Stations_dictionary,entry_station)[0]\n",
        "except IndexError:\n",
        "  st.error('Enter an input')\n",
        "\n",
        "try:\n",
        "  exit_station = st.text_input('Enter your exit station')\n",
        "except IndexError:\n",
        "  st.error('Enter an input')\n",
        "\n",
        "try:\n",
        " exit_zone = getKey(Stations_dictionary,exit_station)[0]\n",
        "except IndexError:\n",
        "  st.error('Enter an input')\n",
        "\n",
        "# st.markdown(entry_zone,exit_zone)\n"
      ],
      "metadata": {
        "id": "BMAWu3RzDh5s"
      },
      "execution_count": null,
      "outputs": []
    },
    {
      "cell_type": "code",
      "source": [
        ""
      ],
      "metadata": {
        "id": "5mlzdBP271KF"
      },
      "execution_count": null,
      "outputs": []
    },
    {
      "cell_type": "code",
      "source": [
        "price_dictionary = dict({'Zone-1': 1, 'Zone-2':2,'Zone-3':3,'Zone-4':4, 'Zone-5':5,'Zone-6':6})\n",
        "\n",
        "\n",
        "zone_difference = abs(price_dictionary[entry_zone] - price_dictionary[exit_zone])\n",
        "print(zone_difference)\n",
        "\n",
        "ticket_price = 0\n",
        "if zone_difference == 0:\n",
        "  ticket_price = 3.75\n",
        "elif zone_difference == 1:\n",
        "  ticket_price = 6\n",
        "elif zone_difference == 2:\n",
        "  ticket_price = 8.25\n",
        "elif zone_difference == 3:\n",
        "  ticket_price = 10.5\n",
        "elif zone_difference == 4:\n",
        "  ticket_price = 12.75\n",
        "elif zone_difference == 5:\n",
        "  ticket_price = 15\n",
        "\n",
        "\n",
        "# print(ticket_price)\n",
        "st.markdown(ticket_price)"
      ],
      "metadata": {
        "id": "138tDzVOEAUU",
        "colab": {
          "base_uri": "https://localhost:8080/"
        },
        "outputId": "5db0f29c-9faf-442d-f2eb-f72905305ab4"
      },
      "execution_count": null,
      "outputs": [
        {
          "output_type": "stream",
          "name": "stdout",
          "text": [
            "0\n"
          ]
        },
        {
          "output_type": "execute_result",
          "data": {
            "text/plain": [
              "DeltaGenerator(_root_container=0, _provided_cursor=None, _parent=None, _block_type=None, _form_data=None)"
            ]
          },
          "metadata": {},
          "execution_count": 33
        }
      ]
    },
    {
      "cell_type": "code",
      "source": [
        "# !pip install streamlit"
      ],
      "metadata": {
        "id": "fO75V2zpDjPw"
      },
      "execution_count": null,
      "outputs": []
    },
    {
      "cell_type": "code",
      "source": [
        ""
      ],
      "metadata": {
        "id": "fSpd5YTODxDo"
      },
      "execution_count": null,
      "outputs": []
    }
  ]
}